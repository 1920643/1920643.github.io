{
  "nbformat": 4,
  "nbformat_minor": 0,
  "metadata": {
    "celltoolbar": "Tags",
    "kernelspec": {
      "display_name": "Python 3",
      "language": "python",
      "name": "python3"
    },
    "language_info": {
      "codemirror_mode": {
        "name": "ipython",
        "version": 3
      },
      "file_extension": ".py",
      "mimetype": "text/x-python",
      "name": "python",
      "nbconvert_exporter": "python",
      "pygments_lexer": "ipython3",
      "version": "3.7.7"
    },
    "colab": {
      "name": "NikeVsAdidas.ipynb",
      "provenance": [],
      "collapsed_sections": [],
      "include_colab_link": true
    }
  },
  "cells": [
    {
      "cell_type": "markdown",
      "metadata": {
        "id": "view-in-github",
        "colab_type": "text"
      },
      "source": [
        "<a href=\"https://colab.research.google.com/github/1920643/1920643.github.io/blob/main/NikeVsAdidas.ipynb\" target=\"_parent\"><img src=\"https://colab.research.google.com/assets/colab-badge.svg\" alt=\"Open In Colab\"/></a>"
      ]
    },
    {
      "cell_type": "markdown",
      "metadata": {
        "tags": [],
        "id": "sUkx-aNeGOc7"
      },
      "source": [
        "**Dénes Csala**  \n",
        "University of Bristol, 2021  \n",
        "\n",
        "Based on *Elements of Data Science* ([Allen B. Downey](https://allendowney.com), 2021) and *Python Data Science Handbook* ([Jake VanderPlas](https://jakevdp.github.io/PythonDataScienceHandbook/), 2018)\n",
        "\n",
        "License: [MIT](https://mit-license.org/)"
      ]
    },
    {
      "cell_type": "markdown",
      "metadata": {
        "id": "WWXDnyb65UUp"
      },
      "source": [
        "# Loading financial data into _pandas_"
      ]
    },
    {
      "cell_type": "markdown",
      "metadata": {
        "id": "CwQ9ZFNAYLSq"
      },
      "source": [
        "Install _Yahoo Finance_. If you put a `!` in the first character of a cell, it becomes a _Linux_ command. The cell below would install the `yfinance` _python package_, using the `pip` package manager tool. However, when you run the cell for the second time (in _Colab_ the packages you install persist for about 8 hours) it is already installed - so you get only `Requirement already satisfied` messages."
      ]
    },
    {
      "cell_type": "code",
      "metadata": {
        "id": "qaimnzpYklzd",
        "colab": {
          "base_uri": "https://localhost:8080/"
        },
        "outputId": "0d776755-ad70-4159-f06d-687fbaa0d831"
      },
      "source": [
        "!pip install yfinance"
      ],
      "execution_count": 1,
      "outputs": [
        {
          "output_type": "stream",
          "name": "stdout",
          "text": [
            "Collecting yfinance\n",
            "  Downloading yfinance-0.1.67-py2.py3-none-any.whl (25 kB)\n",
            "Requirement already satisfied: requests>=2.20 in /usr/local/lib/python3.7/dist-packages (from yfinance) (2.23.0)\n",
            "Requirement already satisfied: multitasking>=0.0.7 in /usr/local/lib/python3.7/dist-packages (from yfinance) (0.0.10)\n",
            "Requirement already satisfied: numpy>=1.15 in /usr/local/lib/python3.7/dist-packages (from yfinance) (1.19.5)\n",
            "Collecting lxml>=4.5.1\n",
            "  Downloading lxml-4.6.4-cp37-cp37m-manylinux_2_17_x86_64.manylinux2014_x86_64.manylinux_2_24_x86_64.whl (6.3 MB)\n",
            "\u001b[K     |████████████████████████████████| 6.3 MB 6.4 MB/s \n",
            "\u001b[?25hRequirement already satisfied: pandas>=0.24 in /usr/local/lib/python3.7/dist-packages (from yfinance) (1.1.5)\n",
            "Requirement already satisfied: pytz>=2017.2 in /usr/local/lib/python3.7/dist-packages (from pandas>=0.24->yfinance) (2018.9)\n",
            "Requirement already satisfied: python-dateutil>=2.7.3 in /usr/local/lib/python3.7/dist-packages (from pandas>=0.24->yfinance) (2.8.2)\n",
            "Requirement already satisfied: six>=1.5 in /usr/local/lib/python3.7/dist-packages (from python-dateutil>=2.7.3->pandas>=0.24->yfinance) (1.15.0)\n",
            "Requirement already satisfied: idna<3,>=2.5 in /usr/local/lib/python3.7/dist-packages (from requests>=2.20->yfinance) (2.10)\n",
            "Requirement already satisfied: urllib3!=1.25.0,!=1.25.1,<1.26,>=1.21.1 in /usr/local/lib/python3.7/dist-packages (from requests>=2.20->yfinance) (1.24.3)\n",
            "Requirement already satisfied: chardet<4,>=3.0.2 in /usr/local/lib/python3.7/dist-packages (from requests>=2.20->yfinance) (3.0.4)\n",
            "Requirement already satisfied: certifi>=2017.4.17 in /usr/local/lib/python3.7/dist-packages (from requests>=2.20->yfinance) (2021.10.8)\n",
            "Installing collected packages: lxml, yfinance\n",
            "  Attempting uninstall: lxml\n",
            "    Found existing installation: lxml 4.2.6\n",
            "    Uninstalling lxml-4.2.6:\n",
            "      Successfully uninstalled lxml-4.2.6\n",
            "Successfully installed lxml-4.6.4 yfinance-0.1.67\n"
          ]
        }
      ]
    },
    {
      "cell_type": "code",
      "metadata": {
        "id": "QQE4K9FViQsi"
      },
      "source": [
        "import yfinance as yf"
      ],
      "execution_count": 2,
      "outputs": []
    },
    {
      "cell_type": "code",
      "metadata": {
        "id": "2Sf-gL4Skmnc"
      },
      "source": [
        "Nike = yf.Ticker(\"NKE\").history(period='5y')\n",
        "Adidas = yf.Ticker(\"ADDYY\").history(period='5y')\n"
      ],
      "execution_count": 3,
      "outputs": []
    },
    {
      "cell_type": "markdown",
      "metadata": {
        "id": "5jqbWAIKiPtl"
      },
      "source": [
        "Now we have downloaded the data for four stocks, computer graphics company nVidia `NVDA` and electric vehicle manufacturer Tesla `TSLA`, and low-cost airlines RyanAir `RYAAY` and WizzAir `WIZZ.L` for the past 5 years."
      ]
    },
    {
      "cell_type": "markdown",
      "metadata": {
        "id": "cF3CiiBaYO4s"
      },
      "source": [
        "The responses returned are _pandas_ `DataFrames`. They contain [OHLC](https://www.investopedia.com/terms/o/ohlcchart.asp) data, but we only need the `Close` columns this time. Let us also give them names."
      ]
    },
    {
      "cell_type": "code",
      "metadata": {
        "colab": {
          "base_uri": "https://localhost:8080/",
          "height": 455
        },
        "id": "minXk-ZEayEu",
        "outputId": "da74720e-c01f-4c3e-b4d2-52d8a1ba3642"
      },
      "source": [
        "Nike"
      ],
      "execution_count": 4,
      "outputs": [
        {
          "output_type": "execute_result",
          "data": {
            "text/html": [
              "<div>\n",
              "<style scoped>\n",
              "    .dataframe tbody tr th:only-of-type {\n",
              "        vertical-align: middle;\n",
              "    }\n",
              "\n",
              "    .dataframe tbody tr th {\n",
              "        vertical-align: top;\n",
              "    }\n",
              "\n",
              "    .dataframe thead th {\n",
              "        text-align: right;\n",
              "    }\n",
              "</style>\n",
              "<table border=\"1\" class=\"dataframe\">\n",
              "  <thead>\n",
              "    <tr style=\"text-align: right;\">\n",
              "      <th></th>\n",
              "      <th>Open</th>\n",
              "      <th>High</th>\n",
              "      <th>Low</th>\n",
              "      <th>Close</th>\n",
              "      <th>Volume</th>\n",
              "      <th>Dividends</th>\n",
              "      <th>Stock Splits</th>\n",
              "    </tr>\n",
              "    <tr>\n",
              "      <th>Date</th>\n",
              "      <th></th>\n",
              "      <th></th>\n",
              "      <th></th>\n",
              "      <th></th>\n",
              "      <th></th>\n",
              "      <th></th>\n",
              "      <th></th>\n",
              "    </tr>\n",
              "  </thead>\n",
              "  <tbody>\n",
              "    <tr>\n",
              "      <th>2016-12-09</th>\n",
              "      <td>49.137049</td>\n",
              "      <td>49.336410</td>\n",
              "      <td>48.890227</td>\n",
              "      <td>49.099079</td>\n",
              "      <td>5869800</td>\n",
              "      <td>0.000</td>\n",
              "      <td>0</td>\n",
              "    </tr>\n",
              "    <tr>\n",
              "      <th>2016-12-12</th>\n",
              "      <td>48.890222</td>\n",
              "      <td>49.269953</td>\n",
              "      <td>48.358599</td>\n",
              "      <td>48.928196</td>\n",
              "      <td>11459500</td>\n",
              "      <td>0.000</td>\n",
              "      <td>0</td>\n",
              "    </tr>\n",
              "    <tr>\n",
              "      <th>2016-12-13</th>\n",
              "      <td>49.203497</td>\n",
              "      <td>50.523058</td>\n",
              "      <td>49.203497</td>\n",
              "      <td>49.649677</td>\n",
              "      <td>11442300</td>\n",
              "      <td>0.000</td>\n",
              "      <td>0</td>\n",
              "    </tr>\n",
              "    <tr>\n",
              "      <th>2016-12-14</th>\n",
              "      <td>49.592724</td>\n",
              "      <td>49.687655</td>\n",
              "      <td>48.975662</td>\n",
              "      <td>49.165527</td>\n",
              "      <td>8012800</td>\n",
              "      <td>0.000</td>\n",
              "      <td>0</td>\n",
              "    </tr>\n",
              "    <tr>\n",
              "      <th>2016-12-15</th>\n",
              "      <td>49.364888</td>\n",
              "      <td>49.402862</td>\n",
              "      <td>48.501003</td>\n",
              "      <td>48.690868</td>\n",
              "      <td>9567500</td>\n",
              "      <td>0.000</td>\n",
              "      <td>0</td>\n",
              "    </tr>\n",
              "    <tr>\n",
              "      <th>...</th>\n",
              "      <td>...</td>\n",
              "      <td>...</td>\n",
              "      <td>...</td>\n",
              "      <td>...</td>\n",
              "      <td>...</td>\n",
              "      <td>...</td>\n",
              "      <td>...</td>\n",
              "    </tr>\n",
              "    <tr>\n",
              "      <th>2021-12-02</th>\n",
              "      <td>166.979886</td>\n",
              "      <td>170.244024</td>\n",
              "      <td>166.700390</td>\n",
              "      <td>169.695007</td>\n",
              "      <td>4398900</td>\n",
              "      <td>0.000</td>\n",
              "      <td>0</td>\n",
              "    </tr>\n",
              "    <tr>\n",
              "      <th>2021-12-03</th>\n",
              "      <td>170.619995</td>\n",
              "      <td>172.070007</td>\n",
              "      <td>166.759995</td>\n",
              "      <td>170.240005</td>\n",
              "      <td>4878200</td>\n",
              "      <td>0.305</td>\n",
              "      <td>0</td>\n",
              "    </tr>\n",
              "    <tr>\n",
              "      <th>2021-12-06</th>\n",
              "      <td>170.830002</td>\n",
              "      <td>171.210007</td>\n",
              "      <td>168.059998</td>\n",
              "      <td>168.910004</td>\n",
              "      <td>5636900</td>\n",
              "      <td>0.000</td>\n",
              "      <td>0</td>\n",
              "    </tr>\n",
              "    <tr>\n",
              "      <th>2021-12-07</th>\n",
              "      <td>171.110001</td>\n",
              "      <td>173.350006</td>\n",
              "      <td>170.399994</td>\n",
              "      <td>171.289993</td>\n",
              "      <td>5898700</td>\n",
              "      <td>0.000</td>\n",
              "      <td>0</td>\n",
              "    </tr>\n",
              "    <tr>\n",
              "      <th>2021-12-08</th>\n",
              "      <td>171.220001</td>\n",
              "      <td>171.789993</td>\n",
              "      <td>169.839996</td>\n",
              "      <td>170.250000</td>\n",
              "      <td>5614400</td>\n",
              "      <td>0.000</td>\n",
              "      <td>0</td>\n",
              "    </tr>\n",
              "  </tbody>\n",
              "</table>\n",
              "<p>1258 rows × 7 columns</p>\n",
              "</div>"
            ],
            "text/plain": [
              "                  Open        High  ...  Dividends  Stock Splits\n",
              "Date                                ...                         \n",
              "2016-12-09   49.137049   49.336410  ...      0.000             0\n",
              "2016-12-12   48.890222   49.269953  ...      0.000             0\n",
              "2016-12-13   49.203497   50.523058  ...      0.000             0\n",
              "2016-12-14   49.592724   49.687655  ...      0.000             0\n",
              "2016-12-15   49.364888   49.402862  ...      0.000             0\n",
              "...                ...         ...  ...        ...           ...\n",
              "2021-12-02  166.979886  170.244024  ...      0.000             0\n",
              "2021-12-03  170.619995  172.070007  ...      0.305             0\n",
              "2021-12-06  170.830002  171.210007  ...      0.000             0\n",
              "2021-12-07  171.110001  173.350006  ...      0.000             0\n",
              "2021-12-08  171.220001  171.789993  ...      0.000             0\n",
              "\n",
              "[1258 rows x 7 columns]"
            ]
          },
          "metadata": {},
          "execution_count": 4
        }
      ]
    },
    {
      "cell_type": "code",
      "metadata": {
        "id": "RCT36HeiX9qK",
        "colab": {
          "base_uri": "https://localhost:8080/"
        },
        "outputId": "b3770ef2-1bf7-48c7-8cbd-cd4b48cae8b5"
      },
      "source": [
        "Nike=Nike[['Close']]\n",
        "Nike['Name']='Nike'"
      ],
      "execution_count": 5,
      "outputs": [
        {
          "output_type": "stream",
          "name": "stderr",
          "text": [
            "/usr/local/lib/python3.7/dist-packages/ipykernel_launcher.py:2: SettingWithCopyWarning: \n",
            "A value is trying to be set on a copy of a slice from a DataFrame.\n",
            "Try using .loc[row_indexer,col_indexer] = value instead\n",
            "\n",
            "See the caveats in the documentation: https://pandas.pydata.org/pandas-docs/stable/user_guide/indexing.html#returning-a-view-versus-a-copy\n",
            "  \n"
          ]
        }
      ]
    },
    {
      "cell_type": "code",
      "metadata": {
        "colab": {
          "base_uri": "https://localhost:8080/",
          "height": 237
        },
        "id": "rUkNVijfkLgH",
        "outputId": "bc342ab4-a57e-4ade-d2b9-d89bf66b8b67"
      },
      "source": [
        "Nike.head()"
      ],
      "execution_count": 6,
      "outputs": [
        {
          "output_type": "execute_result",
          "data": {
            "text/html": [
              "<div>\n",
              "<style scoped>\n",
              "    .dataframe tbody tr th:only-of-type {\n",
              "        vertical-align: middle;\n",
              "    }\n",
              "\n",
              "    .dataframe tbody tr th {\n",
              "        vertical-align: top;\n",
              "    }\n",
              "\n",
              "    .dataframe thead th {\n",
              "        text-align: right;\n",
              "    }\n",
              "</style>\n",
              "<table border=\"1\" class=\"dataframe\">\n",
              "  <thead>\n",
              "    <tr style=\"text-align: right;\">\n",
              "      <th></th>\n",
              "      <th>Close</th>\n",
              "      <th>Name</th>\n",
              "    </tr>\n",
              "    <tr>\n",
              "      <th>Date</th>\n",
              "      <th></th>\n",
              "      <th></th>\n",
              "    </tr>\n",
              "  </thead>\n",
              "  <tbody>\n",
              "    <tr>\n",
              "      <th>2016-12-09</th>\n",
              "      <td>49.099079</td>\n",
              "      <td>Nike</td>\n",
              "    </tr>\n",
              "    <tr>\n",
              "      <th>2016-12-12</th>\n",
              "      <td>48.928196</td>\n",
              "      <td>Nike</td>\n",
              "    </tr>\n",
              "    <tr>\n",
              "      <th>2016-12-13</th>\n",
              "      <td>49.649677</td>\n",
              "      <td>Nike</td>\n",
              "    </tr>\n",
              "    <tr>\n",
              "      <th>2016-12-14</th>\n",
              "      <td>49.165527</td>\n",
              "      <td>Nike</td>\n",
              "    </tr>\n",
              "    <tr>\n",
              "      <th>2016-12-15</th>\n",
              "      <td>48.690868</td>\n",
              "      <td>Nike</td>\n",
              "    </tr>\n",
              "  </tbody>\n",
              "</table>\n",
              "</div>"
            ],
            "text/plain": [
              "                Close  Name\n",
              "Date                       \n",
              "2016-12-09  49.099079  Nike\n",
              "2016-12-12  48.928196  Nike\n",
              "2016-12-13  49.649677  Nike\n",
              "2016-12-14  49.165527  Nike\n",
              "2016-12-15  48.690868  Nike"
            ]
          },
          "metadata": {},
          "execution_count": 6
        }
      ]
    },
    {
      "cell_type": "markdown",
      "metadata": {
        "id": "nHa8UcuNYfbG"
      },
      "source": [
        "This is what we want. However surely, there is a more efficient way to automating this, if we have multiple stocks."
      ]
    },
    {
      "cell_type": "code",
      "metadata": {
        "id": "0FWeq-pgbKdB"
      },
      "source": [
        "dfs=[] #create empty list of dataframes\n",
        "for x in ['NKE','ADDYY']:\n",
        "  df = yf.Ticker(x).history(period='5y')\n",
        "  df=df[['Close']]\n",
        "  df['Name']=x\n",
        "  dfs.append(df) #append newly download and formatted dataframe to our list of dataframes"
      ],
      "execution_count": 7,
      "outputs": []
    },
    {
      "cell_type": "markdown",
      "metadata": {
        "id": "nlferduZZOj0"
      },
      "source": [
        "Great. Now we have a list of `DataFrame`s, each containing the closing stock price and the stock name, for the past 5 years. "
      ]
    },
    {
      "cell_type": "markdown",
      "metadata": {
        "id": "TOqHRgA3lP2k"
      },
      "source": [
        "# DataFrame combination"
      ]
    },
    {
      "cell_type": "markdown",
      "metadata": {
        "id": "BUrUc-OImpze"
      },
      "source": [
        "## Concatenation"
      ]
    },
    {
      "cell_type": "code",
      "metadata": {
        "id": "LwYEh91clqh5",
        "colab": {
          "base_uri": "https://localhost:8080/",
          "height": 143
        },
        "outputId": "cd88e837-d77e-4e7f-8704-d124a162469a"
      },
      "source": [
        "dfs[0].head(2)"
      ],
      "execution_count": 8,
      "outputs": [
        {
          "output_type": "execute_result",
          "data": {
            "text/html": [
              "<div>\n",
              "<style scoped>\n",
              "    .dataframe tbody tr th:only-of-type {\n",
              "        vertical-align: middle;\n",
              "    }\n",
              "\n",
              "    .dataframe tbody tr th {\n",
              "        vertical-align: top;\n",
              "    }\n",
              "\n",
              "    .dataframe thead th {\n",
              "        text-align: right;\n",
              "    }\n",
              "</style>\n",
              "<table border=\"1\" class=\"dataframe\">\n",
              "  <thead>\n",
              "    <tr style=\"text-align: right;\">\n",
              "      <th></th>\n",
              "      <th>Close</th>\n",
              "      <th>Name</th>\n",
              "    </tr>\n",
              "    <tr>\n",
              "      <th>Date</th>\n",
              "      <th></th>\n",
              "      <th></th>\n",
              "    </tr>\n",
              "  </thead>\n",
              "  <tbody>\n",
              "    <tr>\n",
              "      <th>2016-12-09</th>\n",
              "      <td>49.099087</td>\n",
              "      <td>NKE</td>\n",
              "    </tr>\n",
              "    <tr>\n",
              "      <th>2016-12-12</th>\n",
              "      <td>48.928200</td>\n",
              "      <td>NKE</td>\n",
              "    </tr>\n",
              "  </tbody>\n",
              "</table>\n",
              "</div>"
            ],
            "text/plain": [
              "                Close Name\n",
              "Date                      \n",
              "2016-12-09  49.099087  NKE\n",
              "2016-12-12  48.928200  NKE"
            ]
          },
          "metadata": {},
          "execution_count": 8
        }
      ]
    },
    {
      "cell_type": "code",
      "metadata": {
        "colab": {
          "base_uri": "https://localhost:8080/",
          "height": 143
        },
        "id": "OGQQkn05m2mB",
        "outputId": "3bb4b232-5789-4571-c76a-c0ff672934ed"
      },
      "source": [
        "dfs[1].head(2)"
      ],
      "execution_count": 9,
      "outputs": [
        {
          "output_type": "execute_result",
          "data": {
            "text/html": [
              "<div>\n",
              "<style scoped>\n",
              "    .dataframe tbody tr th:only-of-type {\n",
              "        vertical-align: middle;\n",
              "    }\n",
              "\n",
              "    .dataframe tbody tr th {\n",
              "        vertical-align: top;\n",
              "    }\n",
              "\n",
              "    .dataframe thead th {\n",
              "        text-align: right;\n",
              "    }\n",
              "</style>\n",
              "<table border=\"1\" class=\"dataframe\">\n",
              "  <thead>\n",
              "    <tr style=\"text-align: right;\">\n",
              "      <th></th>\n",
              "      <th>Close</th>\n",
              "      <th>Name</th>\n",
              "    </tr>\n",
              "    <tr>\n",
              "      <th>Date</th>\n",
              "      <th></th>\n",
              "      <th></th>\n",
              "    </tr>\n",
              "  </thead>\n",
              "  <tbody>\n",
              "    <tr>\n",
              "      <th>2016-12-09</th>\n",
              "      <td>72.536430</td>\n",
              "      <td>ADDYY</td>\n",
              "    </tr>\n",
              "    <tr>\n",
              "      <th>2016-12-12</th>\n",
              "      <td>72.898254</td>\n",
              "      <td>ADDYY</td>\n",
              "    </tr>\n",
              "  </tbody>\n",
              "</table>\n",
              "</div>"
            ],
            "text/plain": [
              "                Close   Name\n",
              "Date                        \n",
              "2016-12-09  72.536430  ADDYY\n",
              "2016-12-12  72.898254  ADDYY"
            ]
          },
          "metadata": {},
          "execution_count": 9
        }
      ]
    },
    {
      "cell_type": "markdown",
      "metadata": {
        "id": "DfFflQfSlbHt"
      },
      "source": [
        "We can combine `DataFrames` by stacking them on top of each other using `concat`. They must have the same `column` names (otherwise, empty columns will be created and filled with `NaN`s). The `pd.concat` function accepts only `list []` arguments - therefore, the `DataFrame`s to be combined have to be in the format `[dfA, dfB]`."
      ]
    },
    {
      "cell_type": "code",
      "metadata": {
        "colab": {
          "base_uri": "https://localhost:8080/",
          "height": 455
        },
        "id": "pUVlUhzpm42k",
        "outputId": "20c7f85c-c18f-4c22-b55c-32dd112abb07"
      },
      "source": [
        "import pandas as pd\n",
        "pd.concat([ dfs[0],dfs[1] ])"
      ],
      "execution_count": 10,
      "outputs": [
        {
          "output_type": "execute_result",
          "data": {
            "text/html": [
              "<div>\n",
              "<style scoped>\n",
              "    .dataframe tbody tr th:only-of-type {\n",
              "        vertical-align: middle;\n",
              "    }\n",
              "\n",
              "    .dataframe tbody tr th {\n",
              "        vertical-align: top;\n",
              "    }\n",
              "\n",
              "    .dataframe thead th {\n",
              "        text-align: right;\n",
              "    }\n",
              "</style>\n",
              "<table border=\"1\" class=\"dataframe\">\n",
              "  <thead>\n",
              "    <tr style=\"text-align: right;\">\n",
              "      <th></th>\n",
              "      <th>Close</th>\n",
              "      <th>Name</th>\n",
              "    </tr>\n",
              "    <tr>\n",
              "      <th>Date</th>\n",
              "      <th></th>\n",
              "      <th></th>\n",
              "    </tr>\n",
              "  </thead>\n",
              "  <tbody>\n",
              "    <tr>\n",
              "      <th>2016-12-09</th>\n",
              "      <td>49.099087</td>\n",
              "      <td>NKE</td>\n",
              "    </tr>\n",
              "    <tr>\n",
              "      <th>2016-12-12</th>\n",
              "      <td>48.928200</td>\n",
              "      <td>NKE</td>\n",
              "    </tr>\n",
              "    <tr>\n",
              "      <th>2016-12-13</th>\n",
              "      <td>49.649689</td>\n",
              "      <td>NKE</td>\n",
              "    </tr>\n",
              "    <tr>\n",
              "      <th>2016-12-14</th>\n",
              "      <td>49.165539</td>\n",
              "      <td>NKE</td>\n",
              "    </tr>\n",
              "    <tr>\n",
              "      <th>2016-12-15</th>\n",
              "      <td>48.690865</td>\n",
              "      <td>NKE</td>\n",
              "    </tr>\n",
              "    <tr>\n",
              "      <th>...</th>\n",
              "      <td>...</td>\n",
              "      <td>...</td>\n",
              "    </tr>\n",
              "    <tr>\n",
              "      <th>2021-12-02</th>\n",
              "      <td>145.179993</td>\n",
              "      <td>ADDYY</td>\n",
              "    </tr>\n",
              "    <tr>\n",
              "      <th>2021-12-03</th>\n",
              "      <td>141.720001</td>\n",
              "      <td>ADDYY</td>\n",
              "    </tr>\n",
              "    <tr>\n",
              "      <th>2021-12-06</th>\n",
              "      <td>144.059998</td>\n",
              "      <td>ADDYY</td>\n",
              "    </tr>\n",
              "    <tr>\n",
              "      <th>2021-12-07</th>\n",
              "      <td>149.119995</td>\n",
              "      <td>ADDYY</td>\n",
              "    </tr>\n",
              "    <tr>\n",
              "      <th>2021-12-08</th>\n",
              "      <td>149.199997</td>\n",
              "      <td>ADDYY</td>\n",
              "    </tr>\n",
              "  </tbody>\n",
              "</table>\n",
              "<p>2516 rows × 2 columns</p>\n",
              "</div>"
            ],
            "text/plain": [
              "                 Close   Name\n",
              "Date                         \n",
              "2016-12-09   49.099087    NKE\n",
              "2016-12-12   48.928200    NKE\n",
              "2016-12-13   49.649689    NKE\n",
              "2016-12-14   49.165539    NKE\n",
              "2016-12-15   48.690865    NKE\n",
              "...                ...    ...\n",
              "2021-12-02  145.179993  ADDYY\n",
              "2021-12-03  141.720001  ADDYY\n",
              "2021-12-06  144.059998  ADDYY\n",
              "2021-12-07  149.119995  ADDYY\n",
              "2021-12-08  149.199997  ADDYY\n",
              "\n",
              "[2516 rows x 2 columns]"
            ]
          },
          "metadata": {},
          "execution_count": 10
        }
      ]
    },
    {
      "cell_type": "markdown",
      "metadata": {
        "id": "6es439OGZbnV"
      },
      "source": [
        "## Joining"
      ]
    },
    {
      "cell_type": "markdown",
      "metadata": {
        "id": "v3B5gC-3m-rF"
      },
      "source": [
        "Sometimes, the dataframes to be joined need to end up next to each other, a \"_horizontal_ `concat`\". This is called `join`. The `DataFrames` to be combined must have the same index. They must _not_ have any matching `column` names - though these can be renamed automatically using `lsuffix` or `rsuffix`."
      ]
    },
    {
      "cell_type": "markdown",
      "metadata": {
        "id": "r7AlsEAIn0cz"
      },
      "source": [
        "Let's do something smarter:"
      ]
    },
    {
      "cell_type": "code",
      "metadata": {
        "id": "3TXeS2-ZnV2D"
      },
      "source": [
        "dfy=pd.DataFrame() #initialise empty DataFrame\n",
        "for x in dfs:\n",
        "  stock_name=x['Name'].values[0]\n",
        "  stock_name=stock_name.replace('.','')\n",
        "  x=x[['Close']]\n",
        "  x.columns=[stock_name]\n",
        "  dfy=x.join(dfy)"
      ],
      "execution_count": 22,
      "outputs": []
    },
    {
      "cell_type": "code",
      "metadata": {
        "colab": {
          "base_uri": "https://localhost:8080/",
          "height": 237
        },
        "id": "AT-tQo67okqY",
        "outputId": "90d9b9e8-5fdc-49ab-a9bf-b5c96742a19c"
      },
      "source": [
        "dfz.head()"
      ],
      "execution_count": 20,
      "outputs": [
        {
          "output_type": "execute_result",
          "data": {
            "text/html": [
              "<div>\n",
              "<style scoped>\n",
              "    .dataframe tbody tr th:only-of-type {\n",
              "        vertical-align: middle;\n",
              "    }\n",
              "\n",
              "    .dataframe tbody tr th {\n",
              "        vertical-align: top;\n",
              "    }\n",
              "\n",
              "    .dataframe thead th {\n",
              "        text-align: right;\n",
              "    }\n",
              "</style>\n",
              "<table border=\"1\" class=\"dataframe\">\n",
              "  <thead>\n",
              "    <tr style=\"text-align: right;\">\n",
              "      <th></th>\n",
              "      <th>ADDYY</th>\n",
              "      <th>NKE</th>\n",
              "    </tr>\n",
              "    <tr>\n",
              "      <th>Date</th>\n",
              "      <th></th>\n",
              "      <th></th>\n",
              "    </tr>\n",
              "  </thead>\n",
              "  <tbody>\n",
              "    <tr>\n",
              "      <th>2016-12-09</th>\n",
              "      <td>72.536430</td>\n",
              "      <td>49.099087</td>\n",
              "    </tr>\n",
              "    <tr>\n",
              "      <th>2016-12-12</th>\n",
              "      <td>72.898254</td>\n",
              "      <td>48.928200</td>\n",
              "    </tr>\n",
              "    <tr>\n",
              "      <th>2016-12-13</th>\n",
              "      <td>73.717117</td>\n",
              "      <td>49.649689</td>\n",
              "    </tr>\n",
              "    <tr>\n",
              "      <th>2016-12-14</th>\n",
              "      <td>71.460480</td>\n",
              "      <td>49.165539</td>\n",
              "    </tr>\n",
              "    <tr>\n",
              "      <th>2016-12-15</th>\n",
              "      <td>71.279572</td>\n",
              "      <td>48.690865</td>\n",
              "    </tr>\n",
              "  </tbody>\n",
              "</table>\n",
              "</div>"
            ],
            "text/plain": [
              "                ADDYY        NKE\n",
              "Date                            \n",
              "2016-12-09  72.536430  49.099087\n",
              "2016-12-12  72.898254  48.928200\n",
              "2016-12-13  73.717117  49.649689\n",
              "2016-12-14  71.460480  49.165539\n",
              "2016-12-15  71.279572  48.690865"
            ]
          },
          "metadata": {},
          "execution_count": 20
        }
      ]
    },
    {
      "cell_type": "markdown",
      "metadata": {
        "id": "StCL8NxrbUFf"
      },
      "source": [
        "Ready to export. In _CSV_:"
      ]
    },
    {
      "cell_type": "code",
      "metadata": {
        "id": "jQpNiRcPbTBj"
      },
      "source": [
        "dfy.to_csv('stocks.csv')"
      ],
      "execution_count": 23,
      "outputs": []
    },
    {
      "cell_type": "markdown",
      "metadata": {
        "id": "yK8jh6kybbg_"
      },
      "source": [
        "To _JSON_."
      ]
    },
    {
      "cell_type": "code",
      "metadata": {
        "id": "IBlr9AyLbapH"
      },
      "source": [
        "import json"
      ],
      "execution_count": 24,
      "outputs": []
    },
    {
      "cell_type": "code",
      "metadata": {
        "colab": {
          "base_uri": "https://localhost:8080/"
        },
        "id": "7wzWNzkBbf_Y",
        "outputId": "8c606078-aee0-4fc7-f637-575699777a0c"
      },
      "source": [
        "json_list_of_dicts=list(df.T.to_dict().values())\n",
        "open('stocks.json','w').write(json.dumps(json_list_of_dicts))"
      ],
      "execution_count": 25,
      "outputs": [
        {
          "output_type": "execute_result",
          "data": {
            "text/plain": [
              "59541"
            ]
          },
          "metadata": {},
          "execution_count": 25
        }
      ]
    }
  ]
}