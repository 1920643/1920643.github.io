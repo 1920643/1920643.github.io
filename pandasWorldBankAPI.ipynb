{
  "nbformat": 4,
  "nbformat_minor": 0,
  "metadata": {
    "colab": {
      "name": "pandasWorldBankAPI.ipynb",
      "provenance": [],
      "collapsed_sections": [],
      "include_colab_link": true
    },
    "kernelspec": {
      "name": "python3",
      "display_name": "Python 3"
    },
    "language_info": {
      "name": "python"
    }
  },
  "cells": [
    {
      "cell_type": "markdown",
      "metadata": {
        "id": "view-in-github",
        "colab_type": "text"
      },
      "source": [
        "<a href=\"https://colab.research.google.com/github/1920643/1920643.github.io/blob/main/pandasWorldBankAPI.ipynb\" target=\"_parent\"><img src=\"https://colab.research.google.com/assets/colab-badge.svg\" alt=\"Open In Colab\"/></a>"
      ]
    },
    {
      "cell_type": "markdown",
      "metadata": {
        "id": "46rgKtf27Kp0"
      },
      "source": [
        "# JSON data wrangling with python"
      ]
    },
    {
      "cell_type": "markdown",
      "metadata": {
        "id": "BEaPsYdEyTTg"
      },
      "source": [
        "Solving the double/multiple nesting problem"
      ]
    },
    {
      "cell_type": "code",
      "metadata": {
        "id": "yFAyFejT6Ynu"
      },
      "source": [
        "import requests, pandas as pd"
      ],
      "execution_count": 24,
      "outputs": []
    },
    {
      "cell_type": "code",
      "metadata": {
        "id": "ogxAQTkm0cbs"
      },
      "source": [
        "url ='https://api.worldbank.org/v2/country/indicator/NY.GNP.PCAP.PP.CD?date=2020&format=json&per_page=266'\n",
        "html = requests.get(url)"
      ],
      "execution_count": 25,
      "outputs": []
    },
    {
      "cell_type": "code",
      "metadata": {
        "id": "4cvWV9wu6X8R"
      },
      "source": [
        "json_data=html.json()"
      ],
      "execution_count": 26,
      "outputs": []
    },
    {
      "cell_type": "markdown",
      "metadata": {
        "id": "4i7M-RIOIscl"
      },
      "source": [
        "Creating a `pandas` dataframe"
      ]
    },
    {
      "cell_type": "code",
      "metadata": {
        "id": "W-4Jjkd_69rc"
      },
      "source": [
        "#create dataframe directly\n",
        "df=pd.DataFrame(json_data[1])"
      ],
      "execution_count": 27,
      "outputs": []
    },
    {
      "cell_type": "code",
      "source": [
        "df"
      ],
      "metadata": {
        "colab": {
          "base_uri": "https://localhost:8080/",
          "height": 641
        },
        "id": "AV0sVpTWYdMW",
        "outputId": "a7cbfc95-4baa-4af0-88a1-1b15d8845f06"
      },
      "execution_count": 28,
      "outputs": [
        {
          "output_type": "execute_result",
          "data": {
            "text/html": [
              "\n",
              "  <div id=\"df-50aca094-de8b-4c5f-b88d-b29519076df9\">\n",
              "    <div class=\"colab-df-container\">\n",
              "      <div>\n",
              "<style scoped>\n",
              "    .dataframe tbody tr th:only-of-type {\n",
              "        vertical-align: middle;\n",
              "    }\n",
              "\n",
              "    .dataframe tbody tr th {\n",
              "        vertical-align: top;\n",
              "    }\n",
              "\n",
              "    .dataframe thead th {\n",
              "        text-align: right;\n",
              "    }\n",
              "</style>\n",
              "<table border=\"1\" class=\"dataframe\">\n",
              "  <thead>\n",
              "    <tr style=\"text-align: right;\">\n",
              "      <th></th>\n",
              "      <th>indicator</th>\n",
              "      <th>country</th>\n",
              "      <th>countryiso3code</th>\n",
              "      <th>date</th>\n",
              "      <th>value</th>\n",
              "      <th>unit</th>\n",
              "      <th>obs_status</th>\n",
              "      <th>decimal</th>\n",
              "    </tr>\n",
              "  </thead>\n",
              "  <tbody>\n",
              "    <tr>\n",
              "      <th>0</th>\n",
              "      <td>{'id': 'NY.GNP.PCAP.PP.CD', 'value': 'GNI per ...</td>\n",
              "      <td>{'id': 'ZH', 'value': 'Africa Eastern and Sout...</td>\n",
              "      <td>AFE</td>\n",
              "      <td>2020</td>\n",
              "      <td>3583.939696</td>\n",
              "      <td></td>\n",
              "      <td></td>\n",
              "      <td>0</td>\n",
              "    </tr>\n",
              "    <tr>\n",
              "      <th>1</th>\n",
              "      <td>{'id': 'NY.GNP.PCAP.PP.CD', 'value': 'GNI per ...</td>\n",
              "      <td>{'id': 'ZI', 'value': 'Africa Western and Cent...</td>\n",
              "      <td>AFW</td>\n",
              "      <td>2020</td>\n",
              "      <td>4096.053208</td>\n",
              "      <td></td>\n",
              "      <td></td>\n",
              "      <td>0</td>\n",
              "    </tr>\n",
              "    <tr>\n",
              "      <th>2</th>\n",
              "      <td>{'id': 'NY.GNP.PCAP.PP.CD', 'value': 'GNI per ...</td>\n",
              "      <td>{'id': '1A', 'value': 'Arab World'}</td>\n",
              "      <td>ARB</td>\n",
              "      <td>2020</td>\n",
              "      <td>14030.495626</td>\n",
              "      <td></td>\n",
              "      <td></td>\n",
              "      <td>0</td>\n",
              "    </tr>\n",
              "    <tr>\n",
              "      <th>3</th>\n",
              "      <td>{'id': 'NY.GNP.PCAP.PP.CD', 'value': 'GNI per ...</td>\n",
              "      <td>{'id': 'S3', 'value': 'Caribbean small states'}</td>\n",
              "      <td>CSS</td>\n",
              "      <td>2020</td>\n",
              "      <td>14775.995068</td>\n",
              "      <td></td>\n",
              "      <td></td>\n",
              "      <td>0</td>\n",
              "    </tr>\n",
              "    <tr>\n",
              "      <th>4</th>\n",
              "      <td>{'id': 'NY.GNP.PCAP.PP.CD', 'value': 'GNI per ...</td>\n",
              "      <td>{'id': 'B8', 'value': 'Central Europe and the ...</td>\n",
              "      <td>CEB</td>\n",
              "      <td>2020</td>\n",
              "      <td>33004.353044</td>\n",
              "      <td></td>\n",
              "      <td></td>\n",
              "      <td>0</td>\n",
              "    </tr>\n",
              "    <tr>\n",
              "      <th>...</th>\n",
              "      <td>...</td>\n",
              "      <td>...</td>\n",
              "      <td>...</td>\n",
              "      <td>...</td>\n",
              "      <td>...</td>\n",
              "      <td>...</td>\n",
              "      <td>...</td>\n",
              "      <td>...</td>\n",
              "    </tr>\n",
              "    <tr>\n",
              "      <th>261</th>\n",
              "      <td>{'id': 'NY.GNP.PCAP.PP.CD', 'value': 'GNI per ...</td>\n",
              "      <td>{'id': 'VI', 'value': 'Virgin Islands (U.S.)'}</td>\n",
              "      <td>VIR</td>\n",
              "      <td>2020</td>\n",
              "      <td>NaN</td>\n",
              "      <td></td>\n",
              "      <td></td>\n",
              "      <td>0</td>\n",
              "    </tr>\n",
              "    <tr>\n",
              "      <th>262</th>\n",
              "      <td>{'id': 'NY.GNP.PCAP.PP.CD', 'value': 'GNI per ...</td>\n",
              "      <td>{'id': 'PS', 'value': 'West Bank and Gaza'}</td>\n",
              "      <td>PSE</td>\n",
              "      <td>2020</td>\n",
              "      <td>6620.000000</td>\n",
              "      <td></td>\n",
              "      <td></td>\n",
              "      <td>0</td>\n",
              "    </tr>\n",
              "    <tr>\n",
              "      <th>263</th>\n",
              "      <td>{'id': 'NY.GNP.PCAP.PP.CD', 'value': 'GNI per ...</td>\n",
              "      <td>{'id': 'YE', 'value': 'Yemen, Rep.'}</td>\n",
              "      <td>YEM</td>\n",
              "      <td>2020</td>\n",
              "      <td>NaN</td>\n",
              "      <td></td>\n",
              "      <td></td>\n",
              "      <td>0</td>\n",
              "    </tr>\n",
              "    <tr>\n",
              "      <th>264</th>\n",
              "      <td>{'id': 'NY.GNP.PCAP.PP.CD', 'value': 'GNI per ...</td>\n",
              "      <td>{'id': 'ZM', 'value': 'Zambia'}</td>\n",
              "      <td>ZMB</td>\n",
              "      <td>2020</td>\n",
              "      <td>3360.000000</td>\n",
              "      <td></td>\n",
              "      <td></td>\n",
              "      <td>0</td>\n",
              "    </tr>\n",
              "    <tr>\n",
              "      <th>265</th>\n",
              "      <td>{'id': 'NY.GNP.PCAP.PP.CD', 'value': 'GNI per ...</td>\n",
              "      <td>{'id': 'ZW', 'value': 'Zimbabwe'}</td>\n",
              "      <td>ZWE</td>\n",
              "      <td>2020</td>\n",
              "      <td>3420.000000</td>\n",
              "      <td></td>\n",
              "      <td></td>\n",
              "      <td>0</td>\n",
              "    </tr>\n",
              "  </tbody>\n",
              "</table>\n",
              "<p>266 rows × 8 columns</p>\n",
              "</div>\n",
              "      <button class=\"colab-df-convert\" onclick=\"convertToInteractive('df-50aca094-de8b-4c5f-b88d-b29519076df9')\"\n",
              "              title=\"Convert this dataframe to an interactive table.\"\n",
              "              style=\"display:none;\">\n",
              "        \n",
              "  <svg xmlns=\"http://www.w3.org/2000/svg\" height=\"24px\"viewBox=\"0 0 24 24\"\n",
              "       width=\"24px\">\n",
              "    <path d=\"M0 0h24v24H0V0z\" fill=\"none\"/>\n",
              "    <path d=\"M18.56 5.44l.94 2.06.94-2.06 2.06-.94-2.06-.94-.94-2.06-.94 2.06-2.06.94zm-11 1L8.5 8.5l.94-2.06 2.06-.94-2.06-.94L8.5 2.5l-.94 2.06-2.06.94zm10 10l.94 2.06.94-2.06 2.06-.94-2.06-.94-.94-2.06-.94 2.06-2.06.94z\"/><path d=\"M17.41 7.96l-1.37-1.37c-.4-.4-.92-.59-1.43-.59-.52 0-1.04.2-1.43.59L10.3 9.45l-7.72 7.72c-.78.78-.78 2.05 0 2.83L4 21.41c.39.39.9.59 1.41.59.51 0 1.02-.2 1.41-.59l7.78-7.78 2.81-2.81c.8-.78.8-2.07 0-2.86zM5.41 20L4 18.59l7.72-7.72 1.47 1.35L5.41 20z\"/>\n",
              "  </svg>\n",
              "      </button>\n",
              "      \n",
              "  <style>\n",
              "    .colab-df-container {\n",
              "      display:flex;\n",
              "      flex-wrap:wrap;\n",
              "      gap: 12px;\n",
              "    }\n",
              "\n",
              "    .colab-df-convert {\n",
              "      background-color: #E8F0FE;\n",
              "      border: none;\n",
              "      border-radius: 50%;\n",
              "      cursor: pointer;\n",
              "      display: none;\n",
              "      fill: #1967D2;\n",
              "      height: 32px;\n",
              "      padding: 0 0 0 0;\n",
              "      width: 32px;\n",
              "    }\n",
              "\n",
              "    .colab-df-convert:hover {\n",
              "      background-color: #E2EBFA;\n",
              "      box-shadow: 0px 1px 2px rgba(60, 64, 67, 0.3), 0px 1px 3px 1px rgba(60, 64, 67, 0.15);\n",
              "      fill: #174EA6;\n",
              "    }\n",
              "\n",
              "    [theme=dark] .colab-df-convert {\n",
              "      background-color: #3B4455;\n",
              "      fill: #D2E3FC;\n",
              "    }\n",
              "\n",
              "    [theme=dark] .colab-df-convert:hover {\n",
              "      background-color: #434B5C;\n",
              "      box-shadow: 0px 1px 3px 1px rgba(0, 0, 0, 0.15);\n",
              "      filter: drop-shadow(0px 1px 2px rgba(0, 0, 0, 0.3));\n",
              "      fill: #FFFFFF;\n",
              "    }\n",
              "  </style>\n",
              "\n",
              "      <script>\n",
              "        const buttonEl =\n",
              "          document.querySelector('#df-50aca094-de8b-4c5f-b88d-b29519076df9 button.colab-df-convert');\n",
              "        buttonEl.style.display =\n",
              "          google.colab.kernel.accessAllowed ? 'block' : 'none';\n",
              "\n",
              "        async function convertToInteractive(key) {\n",
              "          const element = document.querySelector('#df-50aca094-de8b-4c5f-b88d-b29519076df9');\n",
              "          const dataTable =\n",
              "            await google.colab.kernel.invokeFunction('convertToInteractive',\n",
              "                                                     [key], {});\n",
              "          if (!dataTable) return;\n",
              "\n",
              "          const docLinkHtml = 'Like what you see? Visit the ' +\n",
              "            '<a target=\"_blank\" href=https://colab.research.google.com/notebooks/data_table.ipynb>data table notebook</a>'\n",
              "            + ' to learn more about interactive tables.';\n",
              "          element.innerHTML = '';\n",
              "          dataTable['output_type'] = 'display_data';\n",
              "          await google.colab.output.renderOutput(dataTable, element);\n",
              "          const docLink = document.createElement('div');\n",
              "          docLink.innerHTML = docLinkHtml;\n",
              "          element.appendChild(docLink);\n",
              "        }\n",
              "      </script>\n",
              "    </div>\n",
              "  </div>\n",
              "  "
            ],
            "text/plain": [
              "                                             indicator  ... decimal\n",
              "0    {'id': 'NY.GNP.PCAP.PP.CD', 'value': 'GNI per ...  ...       0\n",
              "1    {'id': 'NY.GNP.PCAP.PP.CD', 'value': 'GNI per ...  ...       0\n",
              "2    {'id': 'NY.GNP.PCAP.PP.CD', 'value': 'GNI per ...  ...       0\n",
              "3    {'id': 'NY.GNP.PCAP.PP.CD', 'value': 'GNI per ...  ...       0\n",
              "4    {'id': 'NY.GNP.PCAP.PP.CD', 'value': 'GNI per ...  ...       0\n",
              "..                                                 ...  ...     ...\n",
              "261  {'id': 'NY.GNP.PCAP.PP.CD', 'value': 'GNI per ...  ...       0\n",
              "262  {'id': 'NY.GNP.PCAP.PP.CD', 'value': 'GNI per ...  ...       0\n",
              "263  {'id': 'NY.GNP.PCAP.PP.CD', 'value': 'GNI per ...  ...       0\n",
              "264  {'id': 'NY.GNP.PCAP.PP.CD', 'value': 'GNI per ...  ...       0\n",
              "265  {'id': 'NY.GNP.PCAP.PP.CD', 'value': 'GNI per ...  ...       0\n",
              "\n",
              "[266 rows x 8 columns]"
            ]
          },
          "metadata": {},
          "execution_count": 28
        }
      ]
    },
    {
      "cell_type": "code",
      "source": [
        "df.to_csv('GNI.csv')"
      ],
      "metadata": {
        "id": "GB_KvGBfTwVK"
      },
      "execution_count": 29,
      "outputs": []
    }
  ]
}